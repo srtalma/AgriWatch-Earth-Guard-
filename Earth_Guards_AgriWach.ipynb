{
  "nbformat": 4,
  "nbformat_minor": 0,
  "metadata": {
    "colab": {
      "provenance": []
    },
    "kernelspec": {
      "name": "python3",
      "display_name": "Python 3"
    },
    "language_info": {
      "name": "python"
    }
  },
  "cells": [
    {
      "cell_type": "code",
      "execution_count": null,
      "metadata": {
        "colab": {
          "base_uri": "https://localhost:8080/"
        },
        "id": "aSovRptuWb4O",
        "outputId": "6db6a9e4-2716-4166-a16f-270ff1cedf2e"
      },
      "outputs": [
        {
          "output_type": "stream",
          "name": "stdout",
          "text": [
            "X shape: (24000, 24, 4)\n",
            "y shape: (24000,)\n",
            "Sample X[0]: [[  2.15927066  18.81976692  60.99951523  28.98053982]\n",
            " [ -3.52680827  19.25650476  74.46886899  48.91416875]\n",
            " [-12.12246204  21.55631463  56.62191441  51.80771757]\n",
            " [  3.85848784  16.91654787          nan  51.95398627]\n",
            " [  4.80347031  15.39640588  63.85232441  39.1243338 ]\n",
            " [ -3.0295204   10.49775361  61.985245    -2.57830369]\n",
            " [ 11.84260161  23.45888899  71.84552646  18.29064792]\n",
            " [ -6.36923267  17.76413654  76.93006407  35.16040554]\n",
            " [  1.19608907  13.11318368  73.80904859   4.94321709]\n",
            " [         nan  22.02489042  72.99431002  28.17432306]\n",
            " [  8.47644861  14.57629526  62.68866433          nan]\n",
            " [  7.92279928  19.03235297  72.52469427  10.84396753]\n",
            " [  1.38597723          nan  66.79796134   1.19268483]\n",
            " [  2.82384957  19.61219521  67.97733939  48.17000624]\n",
            " [ -4.27499629  25.07307995  73.54729181  16.05410764]\n",
            " [ -9.72556597  14.40694709  65.03767826  18.18280396]\n",
            " [         nan  25.75866081  71.88775047  55.82543146]\n",
            " [  1.63110271  15.25565848  71.53634926  25.22796069]\n",
            " [  6.95179448  19.51162861  69.13467045   9.68879856]\n",
            " [  6.89491018          nan  59.51623987   6.75875479]\n",
            " [ -0.95587758  23.27745359  71.05202722  29.07979479]\n",
            " [         nan  21.56138512  73.07183148  36.55497876]\n",
            " [         nan  19.01157841          nan  22.40244204]\n",
            " [ -6.29761343          nan          nan  38.20246165]]\n",
            "Sample y[0]: 0\n"
          ]
        }
      ],
      "source": [
        "import numpy as np\n",
        "import pandas as pd\n",
        "\n",
        "# Parameters\n",
        "num_sequences = 24000# Number of sequences\n",
        "sequence_length = 24  # Length of each sequence (hours)\n",
        "num_features = 4  # Ethylene, Temperature, Humidity, VOC\n",
        "\n",
        "# Generate synthetic data with very high noise\n",
        "np.random.seed(0)  # For reproducibility\n",
        "\n",
        "def generate_synthetic_data_with_big_noise(num_sequences, sequence_length):\n",
        "    sequences = []\n",
        "    temperatures = []\n",
        "    humidities = []\n",
        "    vocs = []\n",
        "    labels = []\n",
        "\n",
        "    noise_std_dev = 5  # Significantly increase standard deviation for noise\n",
        "    missing_value_prob = 0.1  # Probability of missing values\n",
        "\n",
        "    for _ in range(num_sequences):\n",
        "        # Randomly generate data for each sequence\n",
        "        ethylene = np.random.uniform(0.1, 1, sequence_length) + np.random.normal(0, noise_std_dev, sequence_length)\n",
        "        temperature = np.random.uniform(18, 25, sequence_length) + np.random.normal(0, noise_std_dev, sequence_length)\n",
        "        humidity = np.random.uniform(60, 70, sequence_length) + np.random.normal(0, noise_std_dev, sequence_length)\n",
        "\n",
        "        # Determine VOC levels and labels based on conditions\n",
        "        if np.random.rand() > 0.5:  # 50% chance to be Healthy or Not Healthy\n",
        "            voc = np.random.uniform(5, 50, sequence_length) + np.random.normal(0, noise_std_dev, sequence_length)\n",
        "            label = 'Healthy'\n",
        "        else:\n",
        "            voc = np.random.uniform(50, 200, sequence_length) + np.random.normal(0, noise_std_dev, sequence_length)\n",
        "            label = 'Not Healthy'\n",
        "\n",
        "        # Introduce missing values randomly\n",
        "        for i in range(sequence_length):\n",
        "            if np.random.rand() < missing_value_prob:\n",
        "                ethylene[i] = np.nan\n",
        "            if np.random.rand() < missing_value_prob:\n",
        "                temperature[i] = np.nan\n",
        "            if np.random.rand() < missing_value_prob:\n",
        "                humidity[i] = np.nan\n",
        "            if np.random.rand() < missing_value_prob:\n",
        "                voc[i] = np.nan\n",
        "\n",
        "        # Append data\n",
        "        sequences.append(ethylene)\n",
        "        temperatures.append(temperature)\n",
        "        humidities.append(humidity)\n",
        "        vocs.append(voc)\n",
        "        labels.append(label)\n",
        "\n",
        "    # Convert lists to numpy arrays\n",
        "    sequences = np.array(sequences)\n",
        "    temperatures = np.array(temperatures)\n",
        "    humidities = np.array(humidities)\n",
        "    vocs = np.array(vocs)\n",
        "    labels = np.array(labels)\n",
        "\n",
        "    # Stack features together\n",
        "    X = np.stack([sequences, temperatures, humidities, vocs], axis=-1)\n",
        "\n",
        "    # Encode labels\n",
        "    label_mapping = {'Healthy': 0, 'Not Healthy': 1}\n",
        "    y = np.array([label_mapping[label] for label in labels])\n",
        "\n",
        "    return X, y\n",
        "\n",
        "# Generate data with big noise\n",
        "X, y = generate_synthetic_data_with_big_noise(num_sequences, sequence_length)\n",
        "\n",
        "# Print shape and a sample\n",
        "print(\"X shape:\", X.shape)\n",
        "print(\"y shape:\", y.shape)\n",
        "print(\"Sample X[0]:\", X[0])\n",
        "print(\"Sample y[0]:\", y[0])\n",
        "\n",
        "# Optionally, save the data to a CSV file\n",
        "df = pd.DataFrame({\n",
        "    'Ethylene': list(X[:, :, 0].flatten()),\n",
        "    'Temperature': list(X[:, :, 1].flatten()),\n",
        "    'Humidity': list(X[:, :, 2].flatten()),\n",
        "    'VOC': list(X[:, :, 3].flatten()),\n",
        "    'Label': np.repeat(y, sequence_length)\n",
        "})\n",
        "df.to_csv('synthetic_data_with_biiiiig_noise.csv', index=False)\n"
      ]
    },
    {
      "cell_type": "code",
      "source": [
        "import pandas as pd\n",
        "\n",
        "# Load the dataset to examine its structure\n",
        "file_path = 'synthetic_data_with_biiiiig_noise.csv'\n",
        "data = pd.read_csv(file_path)\n",
        "\n",
        "\n",
        "# Remove rows with null values\n",
        "data = data.dropna()\n",
        "\n",
        "# Display basic information about the dataset\n",
        "data_info = data.info()\n",
        "data_head = data.head()\n",
        "\n",
        "data_info, data_head"
      ],
      "metadata": {
        "colab": {
          "base_uri": "https://localhost:8080/"
        },
        "id": "ULGCVf6pewTc",
        "outputId": "b269d6f3-fe1d-4ba2-c32a-35f74bea6a77"
      },
      "execution_count": null,
      "outputs": [
        {
          "output_type": "stream",
          "name": "stdout",
          "text": [
            "<class 'pandas.core.frame.DataFrame'>\n",
            "Index: 378665 entries, 0 to 575997\n",
            "Data columns (total 5 columns):\n",
            " #   Column       Non-Null Count   Dtype  \n",
            "---  ------       --------------   -----  \n",
            " 0   Ethylene     378665 non-null  float64\n",
            " 1   Temperature  378665 non-null  float64\n",
            " 2   Humidity     378665 non-null  float64\n",
            " 3   VOC          378665 non-null  float64\n",
            " 4   Label        378665 non-null  int64  \n",
            "dtypes: float64(4), int64(1)\n",
            "memory usage: 17.3 MB\n"
          ]
        },
        {
          "output_type": "execute_result",
          "data": {
            "text/plain": [
              "(None,\n",
              "     Ethylene  Temperature   Humidity        VOC  Label\n",
              " 0   2.159271    18.819767  60.999515  28.980540      0\n",
              " 1  -3.526808    19.256505  74.468869  48.914169      0\n",
              " 2 -12.122462    21.556315  56.621914  51.807718      0\n",
              " 4   4.803470    15.396406  63.852324  39.124334      0\n",
              " 5  -3.029520    10.497754  61.985245  -2.578304      0)"
            ]
          },
          "metadata": {},
          "execution_count": 22
        }
      ]
    },
    {
      "cell_type": "markdown",
      "source": [
        "# LSTM"
      ],
      "metadata": {
        "id": "VDrlsWnaz19X"
      }
    },
    {
      "cell_type": "code",
      "source": [
        "from tensorflow.keras.models import Sequential\n",
        "from tensorflow.keras.layers import LSTM, Dense, Dropout\n",
        "from tensorflow.keras.optimizers import Adam\n",
        "\n",
        "# Build the LSTM model\n",
        "model = Sequential([\n",
        "    LSTM(64, return_sequences=True, input_shape=(X_train_seq_clean.shape[1], X_train_seq_clean.shape[2])),\n",
        "    Dropout(0.2),\n",
        "    LSTM(64),\n",
        "    Dropout(0.2),\n",
        "    Dense(1, activation='sigmoid')\n",
        "])\n",
        "\n",
        "# Compile the model with a suitable learning rate\n",
        "optimizer = Adam(learning_rate=0.001, clipvalue=1.0)\n",
        "model.compile(optimizer=optimizer, loss='binary_crossentropy', metrics=['accuracy'])\n",
        "\n",
        "# Train the model\n",
        "model.fit(X_train_seq_clean, y_train_seq_clean, epochs=5, batch_size=64, validation_split=0.2)\n",
        "\n",
        "# Evaluate the model on the test set\n",
        "test_loss, test_accuracy = model.evaluate(X_test_seq_clean, y_test_seq_clean)\n",
        "print(f'Test Accuracy: {test_accuracy:.2f}')\n"
      ],
      "metadata": {
        "colab": {
          "base_uri": "https://localhost:8080/"
        },
        "id": "pLs2XO9xfQx7",
        "outputId": "f8136083-7e7e-4fb3-ae9d-ea325dcee7f8"
      },
      "execution_count": null,
      "outputs": [
        {
          "output_type": "stream",
          "name": "stdout",
          "text": [
            "Epoch 1/5\n",
            "\u001b[1m9/9\u001b[0m \u001b[32m━━━━━━━━━━━━━━━━━━━━\u001b[0m\u001b[37m\u001b[0m \u001b[1m4s\u001b[0m 73ms/step - accuracy: 0.6624 - loss: 0.6661 - val_accuracy: 0.8897 - val_loss: 0.5411\n",
            "Epoch 2/5\n",
            "\u001b[1m9/9\u001b[0m \u001b[32m━━━━━━━━━━━━━━━━━━━━\u001b[0m\u001b[37m\u001b[0m \u001b[1m0s\u001b[0m 23ms/step - accuracy: 0.8804 - loss: 0.5049 - val_accuracy: 0.8824 - val_loss: 0.3385\n",
            "Epoch 3/5\n",
            "\u001b[1m9/9\u001b[0m \u001b[32m━━━━━━━━━━━━━━━━━━━━\u001b[0m\u001b[37m\u001b[0m \u001b[1m0s\u001b[0m 20ms/step - accuracy: 0.8733 - loss: 0.3483 - val_accuracy: 0.8603 - val_loss: 0.3446\n",
            "Epoch 4/5\n",
            "\u001b[1m9/9\u001b[0m \u001b[32m━━━━━━━━━━━━━━━━━━━━\u001b[0m\u001b[37m\u001b[0m \u001b[1m0s\u001b[0m 20ms/step - accuracy: 0.8658 - loss: 0.3400 - val_accuracy: 0.8676 - val_loss: 0.3105\n",
            "Epoch 5/5\n",
            "\u001b[1m9/9\u001b[0m \u001b[32m━━━━━━━━━━━━━━━━━━━━\u001b[0m\u001b[37m\u001b[0m \u001b[1m0s\u001b[0m 20ms/step - accuracy: 0.8747 - loss: 0.3472 - val_accuracy: 0.8824 - val_loss: 0.2817\n",
            "\u001b[1m6/6\u001b[0m \u001b[32m━━━━━━━━━━━━━━━━━━━━\u001b[0m\u001b[37m\u001b[0m \u001b[1m0s\u001b[0m 6ms/step - accuracy: 0.9098 - loss: 0.2473 \n",
            "Test Accuracy: 0.90\n"
          ]
        }
      ]
    },
    {
      "cell_type": "markdown",
      "source": [
        "# LSTM+GRU"
      ],
      "metadata": {
        "id": "cNbdECSiz5l1"
      }
    },
    {
      "cell_type": "code",
      "source": [
        "from tensorflow.keras.models import Sequential\n",
        "from tensorflow.keras.layers import LSTM, GRU, Dense, Dropout\n",
        "from tensorflow.keras.optimizers import Adam\n",
        "\n",
        "# Build the combined LSTM and GRU model\n",
        "model = Sequential([\n",
        "    LSTM(32, return_sequences=True, input_shape=(X_train_seq_clean.shape[1], X_train_seq_clean.shape[2])),\n",
        "    Dropout(0.2),\n",
        "    GRU(32, return_sequences=True),\n",
        "    Dropout(0.2),\n",
        "    LSTM(64),\n",
        "    Dropout(0.2),\n",
        "    Dense(1, activation='sigmoid')\n",
        "])\n",
        "\n",
        "# Compile the model with a suitable learning rate\n",
        "optimizer = Adam(learning_rate=0.001, clipvalue=1.0)\n",
        "model.compile(optimizer=optimizer, loss='binary_crossentropy', metrics=['accuracy'])\n",
        "\n",
        "# Train the model\n",
        "model.fit(X_train_seq_clean, y_train_seq_clean, epochs=5, batch_size=32, validation_split=0.2)\n",
        "\n",
        "# Evaluate the model on the test set\n",
        "test_loss, test_accuracy = model.evaluate(X_test_seq_clean, y_test_seq_clean)\n",
        "print(f'Test Accuracy: {test_accuracy:.2f}')\n"
      ],
      "metadata": {
        "colab": {
          "base_uri": "https://localhost:8080/"
        },
        "id": "mYeDtoY_y90d",
        "outputId": "0256ba95-1f85-4c92-de70-7e8d9e55e973"
      },
      "execution_count": null,
      "outputs": [
        {
          "output_type": "stream",
          "name": "stdout",
          "text": [
            "Epoch 1/5\n",
            "\u001b[1m17/17\u001b[0m \u001b[32m━━━━━━━━━━━━━━━━━━━━\u001b[0m\u001b[37m\u001b[0m \u001b[1m6s\u001b[0m 54ms/step - accuracy: 0.4989 - loss: 0.6693 - val_accuracy: 0.8971 - val_loss: 0.4951\n",
            "Epoch 2/5\n",
            "\u001b[1m17/17\u001b[0m \u001b[32m━━━━━━━━━━━━━━━━━━━━\u001b[0m\u001b[37m\u001b[0m \u001b[1m1s\u001b[0m 34ms/step - accuracy: 0.8704 - loss: 0.4335 - val_accuracy: 0.8603 - val_loss: 0.3473\n",
            "Epoch 3/5\n",
            "\u001b[1m17/17\u001b[0m \u001b[32m━━━━━━━━━━━━━━━━━━━━\u001b[0m\u001b[37m\u001b[0m \u001b[1m1s\u001b[0m 31ms/step - accuracy: 0.8629 - loss: 0.3643 - val_accuracy: 0.8676 - val_loss: 0.3059\n",
            "Epoch 4/5\n",
            "\u001b[1m17/17\u001b[0m \u001b[32m━━━━━━━━━━━━━━━━━━━━\u001b[0m\u001b[37m\u001b[0m \u001b[1m1s\u001b[0m 32ms/step - accuracy: 0.8820 - loss: 0.3064 - val_accuracy: 0.8824 - val_loss: 0.2692\n",
            "Epoch 5/5\n",
            "\u001b[1m17/17\u001b[0m \u001b[32m━━━━━━━━━━━━━━━━━━━━\u001b[0m\u001b[37m\u001b[0m \u001b[1m1s\u001b[0m 35ms/step - accuracy: 0.9157 - loss: 0.2696 - val_accuracy: 0.9338 - val_loss: 0.2268\n",
            "\u001b[1m6/6\u001b[0m \u001b[32m━━━━━━━━━━━━━━━━━━━━\u001b[0m\u001b[37m\u001b[0m \u001b[1m0s\u001b[0m 8ms/step - accuracy: 0.9273 - loss: 0.1935 \n",
            "Test Accuracy: 0.92\n"
          ]
        }
      ]
    }
  ]
}